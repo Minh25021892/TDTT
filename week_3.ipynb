{
 "cells": [
  {
   "cell_type": "code",
   "execution_count": null,
   "id": "b5776ead",
   "metadata": {},
   "outputs": [],
   "source": [
    "number = int(input(\"nhập số nguyên n: \"))\n",
    "print(\"số đảo ngược \" number[::1])"
   ]
  }
 ],
 "metadata": {
  "language_info": {
   "name": "python"
  }
 },
 "nbformat": 4,
 "nbformat_minor": 5
}
