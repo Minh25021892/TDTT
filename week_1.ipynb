{
 "cells": [
  {
   "cell_type": "code",
   "execution_count": null,
   "id": "4c7e4532",
   "metadata": {},
   "outputs": [],
   "source": [
    "ten = input(\"ten toi la \")\n",
    "print(\"xin chao \" + ten)"
   ]
  },
  {
   "cell_type": "code",
   "execution_count": null,
   "id": "40b13ac9",
   "metadata": {},
   "outputs": [],
   "source": [
    "print(\"hello world\")"
   ]
  },
  {
   "cell_type": "code",
   "execution_count": null,
   "id": "1b601a1b",
   "metadata": {},
   "outputs": [],
   "source": [
    "a = int(input(\"a = \"))\n",
    "b = int(input(\"b = \"))\n",
    "tong = a + b\n",
    "hieu = a - b\n",
    "tich = a * b\n",
    "thuong= a / b\n",
    "du = a % b\n",
    "nguyen = a // b\n",
    "print(\"tong = \" + str(tong))\n",
    "print(\"hieu = \" + str(hieu))\n",
    "print(\"tich = \" + str(tich))\n",
    "print(\"thuong = \" + str(thuong))\n",
    "print(\"du = \" + str(du))\n",
    "print(\"nguyen = \" + str(nguyen))"
   ]
  },
  {
   "cell_type": "code",
   "execution_count": null,
   "id": "2770f395",
   "metadata": {},
   "outputs": [],
   "source": [
    "a1, b1, c1, a2, b2, a3 = map(float, input(\" nhap diem theo thu tu = \").split())\n",
    "diemtb = ((a1 + b1 + c1) * 1 + (a2 + b2) * 2 + a3 * 3)/10\n",
    "print(\"diem trung binh = \" + str(diemtb))"
   ]
  },
  {
   "cell_type": "code",
   "execution_count": null,
   "id": "dfc351b2",
   "metadata": {},
   "outputs": [],
   "source": [
    "a, b = map(int, input(\"nhap hai so a va b cach nhau boi dau cach \").split())\n",
    "ketqua = a**b\n",
    "print(\"a^b = \" + str(ketqua))"
   ]
  },
  {
   "cell_type": "code",
   "execution_count": null,
   "id": "fc4117ed",
   "metadata": {},
   "outputs": [],
   "source": [
    "ch = input(\"Nhập một ký tự chữ cái thường (a-z): \")\n",
    "ma_unicode = ord(ch)\n",
    "print(\"Mã Unicode của ký tự\", ch, \"là:\", ma_unicode)\n",
    "ch_hoa = ch.upper()\n",
    "print(\"Ký tự hoa tương ứng là:\", ch_hoa)"
   ]
  },
  {
   "cell_type": "code",
   "execution_count": null,
   "id": "f8601f12",
   "metadata": {},
   "outputs": [],
   "source": [
    "A = ((13 ** 2) * 3) + 5\n",
    "B = 13 ** 2 * 3 + 5\n",
    "print(\"A = \" + str(A))\n",
    "print(\"B = \" + str(B))"
   ]
  },
  {
   "cell_type": "code",
   "execution_count": null,
   "id": "cd64546e",
   "metadata": {},
   "outputs": [],
   "source": [
    "C = float(input(\"do C = \"))\n",
    "F = 9 / 5 * C +32\n",
    "print(\"F = \" + str(F))"
   ]
  },
  {
   "cell_type": "code",
   "execution_count": null,
   "id": "980108c0",
   "metadata": {},
   "outputs": [],
   "source": [
    "x = float(input(\"gia tien = \"))\n",
    "tong = 140 / 100 * x + 10\n",
    "print(\"tong chi phi: \" + str(tong) + \" USD\")"
   ]
  },
  {
   "cell_type": "code",
   "execution_count": null,
   "id": "4c75fb25",
   "metadata": {},
   "outputs": [],
   "source": [
    "names = input(\"Nhập 3 tên (cách nhau bởi khoảng trắng): \").split()\n",
    "names.reverse()\n",
    "print(f\"Hi {names[0]}, {names[1]} and {names[2]}.\")"
   ]
  },
  {
   "cell_type": "code",
   "execution_count": null,
   "id": "20df195b",
   "metadata": {},
   "outputs": [],
   "source": [
    "h = float(input(\"h: \"))\n",
    "m = float(input(\"m: \"))\n",
    "s = h*3600 + m*60\n",
    "print(\"s: \" + str(s))"
   ]
  },
  {
   "cell_type": "code",
   "execution_count": null,
   "id": "8babc6a4",
   "metadata": {},
   "outputs": [],
   "source": [
    "n = int(input(\"nhap do dai n: \"))\n",
    "soluong = n**2*6\n",
    "print(\"so mieng dan can thiet: \" + str(soluong))"
   ]
  },
  {
   "cell_type": "code",
   "execution_count": null,
   "id": "ffe3cdcb",
   "metadata": {},
   "outputs": [],
   "source": [
    "a = int(input(\"a = \"))\n",
    "b = int(input(\"b = \"))\n",
    "tich = a * b % 10\n",
    "if a<0 or b<0:\n",
    "    print(\"a va b phai la so duong\")\n",
    "else: print(\"hang don vi cua tich a va b la: \" + str(tich))"
   ]
  },
  {
   "cell_type": "code",
   "execution_count": null,
   "id": "3da8e984",
   "metadata": {},
   "outputs": [],
   "source": [
    "a = 10\n",
    "b = 8\n",
    "a, b = b, a\n",
    "print(\"a = \" + str(a))\n",
    "print(\"b = \" + str(b))"
   ]
  },
  {
   "cell_type": "code",
   "execution_count": null,
   "id": "2f8343c7",
   "metadata": {},
   "outputs": [],
   "source": [
    "n = int(input(\"n = \"))\n",
    "s = 6*n*(n-1)+1\n",
    "if n>0:\n",
    "  print(\"so sao thu n la: \" + str(s))\n",
    "else: print(\"n khong la so nguyen duong\")"
   ]
  },
  {
   "cell_type": "code",
   "execution_count": null,
   "id": "4d9d20c0",
   "metadata": {},
   "outputs": [],
   "source": [
    "print(\"spring\\nsummer\\nautumn\\nwinter\")"
   ]
  },
  {
   "cell_type": "code",
   "execution_count": null,
   "id": "13cca568",
   "metadata": {},
   "outputs": [],
   "source": [
    "print(\"*\\n***\\n*****\")"
   ]
  },
  {
   "cell_type": "code",
   "execution_count": null,
   "id": "c0de36eb",
   "metadata": {},
   "outputs": [],
   "source": [
    "print(\"### ##   ### ###\")\n",
    "print(\" #  # #   #   #\")\n",
    "print(\" #  #  #  #   #\")\n",
    "print(\" #  # #   #   #\")\n",
    "print(\" #  ##    #   #\")"
   ]
  },
  {
   "cell_type": "code",
   "execution_count": null,
   "id": "b3176d0c",
   "metadata": {},
   "outputs": [],
   "source": [
    "print(\"monday\\ntuesday\\nwednesday\\nthursday\\nfriday\\nsaturday\\nsunday\")"
   ]
  },
  {
   "cell_type": "code",
   "execution_count": null,
   "id": "80be5501",
   "metadata": {},
   "outputs": [],
   "source": [
    "print(\"january\\nfebruary\\nmarch\\napril\\nmay\\njune\\njuly\\naugust\\nseptember\\noctober\\nnovember\\ndecember\")"
   ]
  },
  {
   "cell_type": "code",
   "execution_count": null,
   "id": "33ecacf1",
   "metadata": {},
   "outputs": [],
   "source": [
    "for i in range(0, 10):\n",
    " print(\"hello, world\")"
   ]
  }
 ],
 "metadata": {
  "language_info": {
   "name": "python"
  }
 },
 "nbformat": 4,
 "nbformat_minor": 5
}
