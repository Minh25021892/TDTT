{
 "cells": [
  {
   "cell_type": "code",
   "execution_count": null,
   "id": "98b0db66",
   "metadata": {},
   "outputs": [],
   "source": [
    "n = int(input(\"n = \"))\n",
    "print(str(2*n))"
   ]
  },
  {
   "cell_type": "code",
   "execution_count": null,
   "id": "0d604410",
   "metadata": {},
   "outputs": [],
   "source": [
    "a = chieurong = float(input(\"do dai chieu rong: \"))\n",
    "b = chieudai = float(input(\"do dai chieu dai: \"))\n",
    "if a>b:\n",
    "    print(\"chieu dai phai lon hon chieu rong\")\n",
    "else:\n",
    "    print(\"dien tich phan con lai:\" + str(a * b - (a/2)** 2 *3.14))"
   ]
  },
  {
   "cell_type": "code",
   "execution_count": null,
   "id": "cabd9eb1",
   "metadata": {},
   "outputs": [],
   "source": [
    "n = input(\"nhap chu cai: \")\n",
    "u = n.upper()\n",
    "l = n.lower()\n",
    "if n == u:\n",
    "    print(l)\n",
    "else:\n",
    "    print(u)"
   ]
  },
  {
   "cell_type": "code",
   "execution_count": null,
   "id": "f285c9d4",
   "metadata": {},
   "outputs": [],
   "source": [
    "c = input(\"nhap ky tu: \")\n",
    "if c.isalpha():\n",
    "    print(c + \" la chu cai alphabet\")\n",
    "else:\n",
    "    print(c + \" la chu cai alphabet\")"
   ]
  },
  {
   "cell_type": "code",
   "execution_count": null,
   "id": "01ef3f72",
   "metadata": {},
   "outputs": [],
   "source": [
    "chucai = input(\"nhập chữ cái in hoa: \")\n",
    "num = ord(chucai)\n",
    "if num == 65:\n",
    "    print(chr(num + 57))\n",
    "else:\n",
    "    print(chr(num + 31))"
   ]
  },
  {
   "cell_type": "code",
   "execution_count": null,
   "id": "e882473d",
   "metadata": {},
   "outputs": [],
   "source": [
    "import math\n",
    "a = float(input(\"a = \"))\n",
    "b = float(input(\"b = \"))\n",
    "c = float(input(\"c = \"))\n",
    "p = (a + b + c)/2\n",
    "S = math.sqrt(p*(p-a)*(p-b)*(p-c))\n",
    "if a + b > c or b + c > a or a + c > b:\n",
    "    print(\"diện tích tam giác: \" + str(round(S, 1)))\n",
    "else:\n",
    "    print(\"a b c không phải ba cạnh của 1 tam giác\")"
   ]
  },
  {
   "cell_type": "code",
   "execution_count": null,
   "id": "bff29811",
   "metadata": {},
   "outputs": [],
   "source": [
    "s = input(\"nhập chuỗi ký tự: \")\n",
    "if len(s) >= 20:\n",
    "    print(\"ký tự thứ 5 là \", s[4])\n",
    "    print(\"ký tự thứ 9 là \", s[8])\n",
    "else:\n",
    "    print(\"dãy không đủ độ dài\")"
   ]
  },
  {
   "cell_type": "code",
   "execution_count": null,
   "id": "58fc306c",
   "metadata": {},
   "outputs": [],
   "source": [
    " = input(\"tên chủ hộ: \")\n",
    "b = float(input(\"chỉ số tháng trước: \"))\n",
    "n = float(input(\"chỉ số tháng này: \"))\n",
    "s = n - b\n",
    "if s>0: \n",
    "    if s <= 50:\n",
    "        print(\"chi phí: \" + str(s*1984))\n",
    "    elif 51 <= s <= 100:\n",
    "        print(\"chi phí: \" + str(50*1984 + (s - 50)*2050))\n",
    "    elif 101 <= s <= 200:\n",
    "        print(\"chi phí: \" + str(50*1984 + 50*2050 + (s- 100)*2380))\n",
    "    elif 201 <= s <= 300:\n",
    "        print(\"chi phí: \" + str(50*1984 + 50*2050 + 100*2380 + (s - 200)*2998))\n",
    "    elif 301 <= s <= 400:\n",
    "        print(\"chi phí: \" + str(50*1984 + 50*2050 + 100*2380 + 100*2998 +(s - 300)*3350))\n",
    "    elif 401 <= s:\n",
    "        print(\"chi phí: \" + str(50*1984 + 50*2050 + 100*2380 + 100*2998 + 100*3350 + (s - 400)*3460))\n",
    "else:\n",
    "    print(\"số không hợp lý\")       "
   ]
  },
  {
   "cell_type": "code",
   "execution_count": null,
   "id": "dff71ee1",
   "metadata": {},
   "outputs": [],
   "source": [
    "n = int(input(\"nhập một số nguyên: \"))\n",
    "if n % 2 == 0:\n",
    "    print(str(n) + \" là số chẵn\")\n",
    "else:\n",
    "    print(str(n) + \" là số lẻ\")"
   ]
  },
  {
   "cell_type": "code",
   "execution_count": null,
   "id": "9b561abd",
   "metadata": {},
   "outputs": [],
   "source": [
    "n = int(input(\"nhập số nguyên: \"))\n",
    "if n % 10 == 5:\n",
    "    print(\"true\")\n",
    "else:\n",
    "    print(\"false\")"
   ]
  },
  {
   "cell_type": "code",
   "execution_count": null,
   "id": "5ac61a2a",
   "metadata": {},
   "outputs": [],
   "source": [
    "n = int(input(\"nhập số nguyên: \"))\n",
    "if n % 3 == 0 and n % 5 == 0:\n",
    "    print(\"true\")\n",
    "else:\n",
    "    print(\"false\")"
   ]
  },
  {
   "cell_type": "code",
   "execution_count": null,
   "id": "79a9f219",
   "metadata": {},
   "outputs": [],
   "source": [
    "import datetime\n",
    "currentYear = datetime.datetime.now().year\n",
    "n = int(input(\"năm sinh của bạn: \"))\n",
    "if currentYear - n >= 18:\n",
    "    print(\"đủ tuổi bầu cử\")\n",
    "else:\n",
    "    print(\"không đủ tuổi bầu cử\")"
   ]
  },
  {
   "cell_type": "code",
   "execution_count": null,
   "id": "1cdd48a5",
   "metadata": {},
   "outputs": [],
   "source": [
    "a = float(input(\"nhập số thứ nhất: \"))\n",
    "b = float(input(\"nhập số thứ hai: \"))\n",
    "if a>b:\n",
    "    print(str(a))\n",
    "elif a<b:\n",
    "    print(str(b))\n",
    "else:\n",
    "    print(\"hai số bằng nhau\")"
   ]
  },
  {
   "cell_type": "code",
   "execution_count": null,
   "id": "5413438d",
   "metadata": {},
   "outputs": [],
   "source": [
    "a = input(\"nhập ký tự \")\n",
    "print(type(a))"
   ]
  },
  {
   "cell_type": "code",
   "execution_count": null,
   "id": "095bd44e",
   "metadata": {},
   "outputs": [],
   "source": [
    "p = float(input(\"nhập điểm: \"))\n",
    "if p >= 8:\n",
    "    print(\"học lực giỏi\")\n",
    "elif 6.5 <= p < 8:\n",
    "    print(\"học lực khá\")\n",
    "elif 5 <= p < 6.5:\n",
    "    print(\"học lực trung bình\")\n",
    "else:\n",
    "    print(\"học lực yếu\")"
   ]
  },
  {
   "cell_type": "code",
   "execution_count": null,
   "id": "46c93b03",
   "metadata": {},
   "outputs": [],
   "source": [
    "Year = int(input(\"nhập năm: \"))\n",
    "if Year % 400 == 0:\n",
    "    print(str(Year) + \" là năm nhuận\")\n",
    "elif Year % 4 == 0 and Year % 100 != 0:\n",
    "    print(str(Year) + \" là năm nhuận\")\n",
    "else:\n",
    "    print(str(Year) + \" không phải năm nhuận\")"
   ]
  },
  {
   "cell_type": "code",
   "execution_count": null,
   "id": "4b5d050b",
   "metadata": {},
   "outputs": [],
   "source": [
    "choice = int(input(\"nhập số từ 0 đến 9: \"))\n",
    "match choice:\n",
    "    case 0:\n",
    "        print(\"không\")\n",
    "    case 1:\n",
    "        print(\"một\")\n",
    "    case 2:\n",
    "        print(\"hai\")\n",
    "    case 3:\n",
    "        print(\"ba\")\n",
    "    case 4:\n",
    "        print(\"bốn\")\n",
    "    case 5:\n",
    "        print(\"năm\")\n",
    "    case 6:\n",
    "        print(\"sáu\")\n",
    "    case 7:\n",
    "        print(\"bảy\")\n",
    "    case 8:\n",
    "        print(\"tám\")\n",
    "    case 9:\n",
    "        print(\"chín\")"
   ]
  },
  {
   "cell_type": "code",
   "execution_count": null,
   "id": "d45a1ef3",
   "metadata": {},
   "outputs": [],
   "source": [
    "examPoint = float(input(\"nhập điểm: \"))\n",
    "if examPoint >= 4:\n",
    "    print(\"qua môn\")\n",
    "else:\n",
    "    print(\"học lại\")"
   ]
  },
  {
   "cell_type": "code",
   "execution_count": null,
   "id": "6459f96c",
   "metadata": {},
   "outputs": [],
   "source": [
    "namsinh = int(input(\"nhập năm sinh: \"))\n",
    "tuoi = 2025 - namsinh\n",
    "if tuoi >= 18:\n",
    "    print(\"đã đủ 18 tuổi\")\n",
    "else:\n",
    "    print(\"chưa đủ 18 tuổi\")"
   ]
  }
 ],
 "metadata": {
  "language_info": {
   "name": "python"
  }
 },
 "nbformat": 4,
 "nbformat_minor": 5
}
